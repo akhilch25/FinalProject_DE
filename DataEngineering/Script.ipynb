{
 "cells": [
  {
   "cell_type": "markdown",
   "metadata": {},
   "source": [
    "----------------------------------------------------------------------------------Staging Layer----------------------------------------------------------------------------------"
   ]
  },
  {
   "cell_type": "code",
   "execution_count": 11,
   "metadata": {},
   "outputs": [],
   "source": [
    "import pandas as pd\n",
    "employee = pd.read_csv('../Source/employee.csv')\n",
    "course = pd.read_csv('../Source/courses.csv')\n",
    "employee_course = pd.read_csv('../Source/employee_course.csv')"
   ]
  },
  {
   "cell_type": "code",
   "execution_count": 12,
   "metadata": {},
   "outputs": [],
   "source": [
    "employee_df = pd.DataFrame(employee)\n",
    "course_df = pd.DataFrame(course)\n",
    "employee_course_df = pd.DataFrame(employee_course)"
   ]
  },
  {
   "cell_type": "code",
   "execution_count": 13,
   "metadata": {},
   "outputs": [
    {
     "name": "stdout",
     "output_type": "stream",
     "text": [
      "<class 'pandas.core.frame.DataFrame'>\n",
      "RangeIndex: 500 entries, 0 to 499\n",
      "Data columns (total 8 columns):\n",
      " #   Column            Non-Null Count  Dtype \n",
      "---  ------            --------------  ----- \n",
      " 0   id                500 non-null    int64 \n",
      " 1   empID             500 non-null    object\n",
      " 2   name              500 non-null    object\n",
      " 3   designation       500 non-null    object\n",
      " 4   password          500 non-null    object\n",
      " 5   email             500 non-null    object\n",
      " 6   mobile            500 non-null    int64 \n",
      " 7   performance_rate  500 non-null    int64 \n",
      "dtypes: int64(3), object(5)\n",
      "memory usage: 31.4+ KB\n",
      "None\n",
      "<class 'pandas.core.frame.DataFrame'>\n",
      "RangeIndex: 50 entries, 0 to 49\n",
      "Data columns (total 6 columns):\n",
      " #   Column            Non-Null Count  Dtype \n",
      "---  ------            --------------  ----- \n",
      " 0   id                50 non-null     int64 \n",
      " 1   courseID          50 non-null     object\n",
      " 2   name              50 non-null     object\n",
      " 3   duration          50 non-null     object\n",
      " 4   difficulty_level  50 non-null     object\n",
      " 5   learning_path     50 non-null     object\n",
      "dtypes: int64(1), object(5)\n",
      "memory usage: 2.5+ KB\n",
      "None\n",
      "<class 'pandas.core.frame.DataFrame'>\n",
      "RangeIndex: 2000 entries, 0 to 1999\n",
      "Data columns (total 3 columns):\n",
      " #   Column           Non-Null Count  Dtype  \n",
      "---  ------           --------------  -----  \n",
      " 0   empID            2000 non-null   object \n",
      " 1   courseID         2000 non-null   object \n",
      " 2   completion_rate  2000 non-null   float64\n",
      "dtypes: float64(1), object(2)\n",
      "memory usage: 47.0+ KB\n",
      "None\n"
     ]
    }
   ],
   "source": [
    "print(employee.info())\n",
    "print(course.info())\n",
    "print(employee_course_df.info())"
   ]
  },
  {
   "cell_type": "code",
   "execution_count": 15,
   "metadata": {},
   "outputs": [],
   "source": [
    "employee_df.to_csv('Staging_Layer/employee.csv', index=False)\n",
    "course_df.to_csv('Staging_Layer/course.csv', index=False)\n",
    "employee_course_df.to_csv('Staging_Layer/employee_course.csv',index=False)"
   ]
  },
  {
   "cell_type": "markdown",
   "metadata": {},
   "source": [
    "---------------------------------------------------------------------------------Mart Layer---------------------------------------------------------------------------------"
   ]
  },
  {
   "cell_type": "markdown",
   "metadata": {},
   "source": [
    "Course Table"
   ]
  },
  {
   "cell_type": "code",
   "execution_count": 44,
   "metadata": {},
   "outputs": [
    {
     "name": "stdout",
     "output_type": "stream",
     "text": [
      "<class 'pandas.core.frame.DataFrame'>\n",
      "RangeIndex: 50 entries, 0 to 49\n",
      "Data columns (total 6 columns):\n",
      " #   Column            Non-Null Count  Dtype \n",
      "---  ------            --------------  ----- \n",
      " 0   id                50 non-null     int64 \n",
      " 1   courseID          50 non-null     object\n",
      " 2   name              50 non-null     object\n",
      " 3   duration          50 non-null     object\n",
      " 4   difficulty_level  50 non-null     object\n",
      " 5   learning_path     50 non-null     object\n",
      "dtypes: int64(1), object(5)\n",
      "memory usage: 2.5+ KB\n"
     ]
    }
   ],
   "source": [
    "course_mart_df = pd.read_csv('Staging_Layer/course.csv')\n",
    "course_mart_df.info()"
   ]
  },
  {
   "cell_type": "code",
   "execution_count": 41,
   "metadata": {},
   "outputs": [
    {
     "name": "stderr",
     "output_type": "stream",
     "text": [
      "C:\\Users\\AkhilKumar\\AppData\\Local\\Temp\\ipykernel_2588\\2640944512.py:1: FutureWarning: A value is trying to be set on a copy of a DataFrame or Series through chained assignment using an inplace method.\n",
      "The behavior will change in pandas 3.0. This inplace method will never work because the intermediate object on which we are setting values always behaves as a copy.\n",
      "\n",
      "For example, when doing 'df[col].method(value, inplace=True)', try using 'df.method({col: value}, inplace=True)' or df[col] = df[col].method(value) instead, to perform the operation inplace on the original object.\n",
      "\n",
      "\n",
      "  course_mart_df['courseID'].fillna(0, inplace=True)  # Filling with 0 for courseID\n",
      "C:\\Users\\AkhilKumar\\AppData\\Local\\Temp\\ipykernel_2588\\2640944512.py:2: FutureWarning: A value is trying to be set on a copy of a DataFrame or Series through chained assignment using an inplace method.\n",
      "The behavior will change in pandas 3.0. This inplace method will never work because the intermediate object on which we are setting values always behaves as a copy.\n",
      "\n",
      "For example, when doing 'df[col].method(value, inplace=True)', try using 'df.method({col: value}, inplace=True)' or df[col] = df[col].method(value) instead, to perform the operation inplace on the original object.\n",
      "\n",
      "\n",
      "  course_mart_df['name'].fillna('Unknown', inplace=True)  # Filling with 'Unknown' for name\n",
      "C:\\Users\\AkhilKumar\\AppData\\Local\\Temp\\ipykernel_2588\\2640944512.py:3: FutureWarning: A value is trying to be set on a copy of a DataFrame or Series through chained assignment using an inplace method.\n",
      "The behavior will change in pandas 3.0. This inplace method will never work because the intermediate object on which we are setting values always behaves as a copy.\n",
      "\n",
      "For example, when doing 'df[col].method(value, inplace=True)', try using 'df.method({col: value}, inplace=True)' or df[col] = df[col].method(value) instead, to perform the operation inplace on the original object.\n",
      "\n",
      "\n",
      "  course_mart_df['duration'].fillna('Not Specified', inplace=True)  # Fill with 'Not Specified'\n",
      "C:\\Users\\AkhilKumar\\AppData\\Local\\Temp\\ipykernel_2588\\2640944512.py:4: FutureWarning: A value is trying to be set on a copy of a DataFrame or Series through chained assignment using an inplace method.\n",
      "The behavior will change in pandas 3.0. This inplace method will never work because the intermediate object on which we are setting values always behaves as a copy.\n",
      "\n",
      "For example, when doing 'df[col].method(value, inplace=True)', try using 'df.method({col: value}, inplace=True)' or df[col] = df[col].method(value) instead, to perform the operation inplace on the original object.\n",
      "\n",
      "\n",
      "  course_mart_df['difficulty_level'].fillna('Not Specified', inplace=True)  # Fill with 'Not Specified'\n",
      "C:\\Users\\AkhilKumar\\AppData\\Local\\Temp\\ipykernel_2588\\2640944512.py:5: FutureWarning: A value is trying to be set on a copy of a DataFrame or Series through chained assignment using an inplace method.\n",
      "The behavior will change in pandas 3.0. This inplace method will never work because the intermediate object on which we are setting values always behaves as a copy.\n",
      "\n",
      "For example, when doing 'df[col].method(value, inplace=True)', try using 'df.method({col: value}, inplace=True)' or df[col] = df[col].method(value) instead, to perform the operation inplace on the original object.\n",
      "\n",
      "\n",
      "  course_mart_df['learning_path'].fillna('Not Assigned', inplace=True)  # Fill with 'Not Assigned'\n"
     ]
    }
   ],
   "source": [
    "course_mart_df.dropna(subset=['courseID'], inplace=True) # Drop rows with null courseID\n",
    "course_mart_df['name'].fillna('Unknown', inplace=True)  # Filling with 'Unknown' for name\n",
    "course_mart_df['duration'].fillna('Not Specified', inplace=True)  # Fill with 'Not Specified'\n",
    "course_mart_df['difficulty_level'].fillna('Not Specified', inplace=True)  # Fill with 'Not Specified'\n",
    "course_mart_df['learning_path'].fillna('Not Assigned', inplace=True)  # Fill with 'Not Assigned'\n",
    "course_mart_df=course_mart_df.drop_duplicates() # Dropping duplicate values"
   ]
  },
  {
   "cell_type": "code",
   "execution_count": 42,
   "metadata": {},
   "outputs": [],
   "source": [
    "def convert_duration_to_weeks(duration):\n",
    "    if isinstance(duration, str):\n",
    "        # Extract number and convert to weeks based on context\n",
    "        if 'week' in duration.lower():\n",
    "            return int(duration.split()[0])  # Returns the numeric part\n",
    "        elif 'month' in duration.lower():\n",
    "            return int(duration.split()[0]) * 4  # Assuming 1 month = 4 weeks\n",
    "        elif 'year' in duration.lower():\n",
    "            return int(duration.split()[0]) * 52 # Assuming 1 year = 52 weeks\n",
    "    return None  # For 'Not Specified' or other values\n",
    "\n",
    "# Apply conversion to a new column for numerical representation\n",
    "course_mart_df['duration_weeks'] = course_mart_df['duration'].apply(convert_duration_to_weeks)"
   ]
  },
  {
   "cell_type": "code",
   "execution_count": 43,
   "metadata": {},
   "outputs": [],
   "source": [
    "course_mart_df.to_csv('Mart_Layer/course.csv',index=False)"
   ]
  },
  {
   "cell_type": "markdown",
   "metadata": {},
   "source": [
    "Employee_Course Table"
   ]
  },
  {
   "cell_type": "code",
   "execution_count": 45,
   "metadata": {},
   "outputs": [
    {
     "name": "stdout",
     "output_type": "stream",
     "text": [
      "<class 'pandas.core.frame.DataFrame'>\n",
      "RangeIndex: 2000 entries, 0 to 1999\n",
      "Data columns (total 3 columns):\n",
      " #   Column           Non-Null Count  Dtype  \n",
      "---  ------           --------------  -----  \n",
      " 0   empID            2000 non-null   object \n",
      " 1   courseID         2000 non-null   object \n",
      " 2   completion_rate  2000 non-null   float64\n",
      "dtypes: float64(1), object(2)\n",
      "memory usage: 47.0+ KB\n"
     ]
    }
   ],
   "source": [
    "employee_course_mart_df=pd.read_csv('Staging_Layer/employee_course.csv')\n",
    "employee_course_mart_df.info()"
   ]
  },
  {
   "cell_type": "code",
   "execution_count": null,
   "metadata": {},
   "outputs": [],
   "source": [
    "employee_course_mart_df=employee_course_mart_df.drop_duplicates() # Dropping duplicate values"
   ]
  },
  {
   "cell_type": "code",
   "execution_count": 54,
   "metadata": {},
   "outputs": [],
   "source": [
    "# Moving data into Mart Layer\n",
    "employee_course_mart_df.to_csv('Mart_Layer/employee_course.csv', index=False)"
   ]
  },
  {
   "cell_type": "markdown",
   "metadata": {},
   "source": [
    "Employee Table"
   ]
  },
  {
   "cell_type": "code",
   "execution_count": 83,
   "metadata": {},
   "outputs": [
    {
     "name": "stdout",
     "output_type": "stream",
     "text": [
      "<class 'pandas.core.frame.DataFrame'>\n",
      "RangeIndex: 500 entries, 0 to 499\n",
      "Data columns (total 8 columns):\n",
      " #   Column            Non-Null Count  Dtype \n",
      "---  ------            --------------  ----- \n",
      " 0   id                500 non-null    int64 \n",
      " 1   empID             500 non-null    object\n",
      " 2   name              500 non-null    object\n",
      " 3   designation       500 non-null    object\n",
      " 4   password          500 non-null    object\n",
      " 5   email             500 non-null    object\n",
      " 6   mobile            500 non-null    int64 \n",
      " 7   performance_rate  500 non-null    int64 \n",
      "dtypes: int64(3), object(5)\n",
      "memory usage: 31.4+ KB\n"
     ]
    }
   ],
   "source": [
    "employee_mart_df = pd.read_csv('Staging_Layer/employee.csv')\n",
    "employee_mart_df.info()"
   ]
  },
  {
   "cell_type": "code",
   "execution_count": 84,
   "metadata": {},
   "outputs": [
    {
     "name": "stdout",
     "output_type": "stream",
     "text": [
      "<class 'pandas.core.frame.DataFrame'>\n",
      "RangeIndex: 500 entries, 0 to 499\n",
      "Data columns (total 8 columns):\n",
      " #   Column            Non-Null Count  Dtype  \n",
      "---  ------            --------------  -----  \n",
      " 0   id                500 non-null    int64  \n",
      " 1   empID             500 non-null    object \n",
      " 2   name              500 non-null    object \n",
      " 3   designation       500 non-null    object \n",
      " 4   password          500 non-null    object \n",
      " 5   email             500 non-null    object \n",
      " 6   mobile            500 non-null    int64  \n",
      " 7   performance_rate  494 non-null    float64\n",
      "dtypes: float64(1), int64(2), object(5)\n",
      "memory usage: 31.4+ KB\n"
     ]
    }
   ],
   "source": [
    "# Dropping performance_rate column \n",
    "employee_mart_df.drop('performance_rate', axis=1, inplace=True)\n",
    "\n",
    "# Calculating mean of completion_rates for each employee\n",
    "mean_completion_rate = employee_course_mart_df.groupby('empID')['completion_rate'].mean().reset_index()\n",
    "\n",
    "# Rename the completion_rate column to performance_rate for clarity\n",
    "mean_completion_rate.rename(columns={'completion_rate': 'performance_rate'}, inplace=True)\n",
    "\n",
    "# Step 2: Merge the mean completion rate back to the employee mart DataFrame\n",
    "merged_df = employee_mart_df.merge(mean_completion_rate, on='empID', how='left')\n",
    "\n",
    "# Assign the performance_rate from the merged DataFrame back to employee_mart_df\n",
    "employee_mart_df['performance_rate'] = merged_df['performance_rate']\n",
    "\n",
    "employee_mart_df.info()"
   ]
  },
  {
   "cell_type": "code",
   "execution_count": 85,
   "metadata": {},
   "outputs": [
    {
     "name": "stdout",
     "output_type": "stream",
     "text": [
      "<class 'pandas.core.frame.DataFrame'>\n",
      "RangeIndex: 500 entries, 0 to 499\n",
      "Data columns (total 8 columns):\n",
      " #   Column            Non-Null Count  Dtype  \n",
      "---  ------            --------------  -----  \n",
      " 0   id                500 non-null    int64  \n",
      " 1   empID             500 non-null    object \n",
      " 2   name              500 non-null    object \n",
      " 3   designation       500 non-null    object \n",
      " 4   password          500 non-null    object \n",
      " 5   email             500 non-null    object \n",
      " 6   mobile            500 non-null    int64  \n",
      " 7   performance_rate  500 non-null    float64\n",
      "dtypes: float64(1), int64(2), object(5)\n",
      "memory usage: 31.4+ KB\n"
     ]
    },
    {
     "name": "stderr",
     "output_type": "stream",
     "text": [
      "C:\\Users\\AkhilKumar\\AppData\\Local\\Temp\\ipykernel_2588\\667963262.py:2: FutureWarning: A value is trying to be set on a copy of a DataFrame or Series through chained assignment using an inplace method.\n",
      "The behavior will change in pandas 3.0. This inplace method will never work because the intermediate object on which we are setting values always behaves as a copy.\n",
      "\n",
      "For example, when doing 'df[col].method(value, inplace=True)', try using 'df.method({col: value}, inplace=True)' or df[col] = df[col].method(value) instead, to perform the operation inplace on the original object.\n",
      "\n",
      "\n",
      "  employee_mart_df['name'].fillna('Unknown',inplace=True)\n",
      "C:\\Users\\AkhilKumar\\AppData\\Local\\Temp\\ipykernel_2588\\667963262.py:3: FutureWarning: A value is trying to be set on a copy of a DataFrame or Series through chained assignment using an inplace method.\n",
      "The behavior will change in pandas 3.0. This inplace method will never work because the intermediate object on which we are setting values always behaves as a copy.\n",
      "\n",
      "For example, when doing 'df[col].method(value, inplace=True)', try using 'df.method({col: value}, inplace=True)' or df[col] = df[col].method(value) instead, to perform the operation inplace on the original object.\n",
      "\n",
      "\n",
      "  employee_mart_df['designation'].fillna('Not Known', inplace=True)\n",
      "C:\\Users\\AkhilKumar\\AppData\\Local\\Temp\\ipykernel_2588\\667963262.py:4: FutureWarning: A value is trying to be set on a copy of a DataFrame or Series through chained assignment using an inplace method.\n",
      "The behavior will change in pandas 3.0. This inplace method will never work because the intermediate object on which we are setting values always behaves as a copy.\n",
      "\n",
      "For example, when doing 'df[col].method(value, inplace=True)', try using 'df.method({col: value}, inplace=True)' or df[col] = df[col].method(value) instead, to perform the operation inplace on the original object.\n",
      "\n",
      "\n",
      "  employee_mart_df['email'].fillna(\"Not Known\", inplace=True)\n",
      "C:\\Users\\AkhilKumar\\AppData\\Local\\Temp\\ipykernel_2588\\667963262.py:5: FutureWarning: A value is trying to be set on a copy of a DataFrame or Series through chained assignment using an inplace method.\n",
      "The behavior will change in pandas 3.0. This inplace method will never work because the intermediate object on which we are setting values always behaves as a copy.\n",
      "\n",
      "For example, when doing 'df[col].method(value, inplace=True)', try using 'df.method({col: value}, inplace=True)' or df[col] = df[col].method(value) instead, to perform the operation inplace on the original object.\n",
      "\n",
      "\n",
      "  employee_mart_df['password'].fillna(employee_mart_df['empID'],inplace=True)\n",
      "C:\\Users\\AkhilKumar\\AppData\\Local\\Temp\\ipykernel_2588\\667963262.py:6: FutureWarning: A value is trying to be set on a copy of a DataFrame or Series through chained assignment using an inplace method.\n",
      "The behavior will change in pandas 3.0. This inplace method will never work because the intermediate object on which we are setting values always behaves as a copy.\n",
      "\n",
      "For example, when doing 'df[col].method(value, inplace=True)', try using 'df.method({col: value}, inplace=True)' or df[col] = df[col].method(value) instead, to perform the operation inplace on the original object.\n",
      "\n",
      "\n",
      "  employee_mart_df['mobile'].fillna(0,inplace=True)\n",
      "C:\\Users\\AkhilKumar\\AppData\\Local\\Temp\\ipykernel_2588\\667963262.py:7: FutureWarning: A value is trying to be set on a copy of a DataFrame or Series through chained assignment using an inplace method.\n",
      "The behavior will change in pandas 3.0. This inplace method will never work because the intermediate object on which we are setting values always behaves as a copy.\n",
      "\n",
      "For example, when doing 'df[col].method(value, inplace=True)', try using 'df.method({col: value}, inplace=True)' or df[col] = df[col].method(value) instead, to perform the operation inplace on the original object.\n",
      "\n",
      "\n",
      "  employee_mart_df['performance_rate'].fillna(0,inplace=True)\n"
     ]
    }
   ],
   "source": [
    "employee_mart_df.dropna(subset=['empID'], inplace=True)\n",
    "employee_mart_df['name'].fillna('Unknown',inplace=True)\n",
    "employee_mart_df['designation'].fillna('Not Known', inplace=True)\n",
    "employee_mart_df['email'].fillna(\"Not Known\", inplace=True)\n",
    "employee_mart_df['password'].fillna(employee_mart_df['empID'],inplace=True)\n",
    "employee_mart_df['mobile'].fillna(0,inplace=True)\n",
    "employee_mart_df['performance_rate'].fillna(0,inplace=True)\n",
    "employee_mart_df.info()"
   ]
  },
  {
   "cell_type": "code",
   "execution_count": 87,
   "metadata": {},
   "outputs": [],
   "source": [
    "# Dropping duplicates\n",
    "employee_mart_df=employee_mart_df.drop_duplicates()\n",
    "\n",
    "# Rounding performance_rate to two decimals\n",
    "employee_mart_df['performance_rate'] = employee_mart_df['performance_rate'].round(2)"
   ]
  },
  {
   "cell_type": "code",
   "execution_count": 88,
   "metadata": {},
   "outputs": [],
   "source": [
    "# Moving data into mart layer\n",
    "employee_mart_df.to_csv('Mart_Layer/employee.csv')"
   ]
  },
  {
   "cell_type": "code",
   "execution_count": null,
   "metadata": {},
   "outputs": [],
   "source": []
  }
 ],
 "metadata": {
  "kernelspec": {
   "display_name": "Python 3",
   "language": "python",
   "name": "python3"
  },
  "language_info": {
   "codemirror_mode": {
    "name": "ipython",
    "version": 3
   },
   "file_extension": ".py",
   "mimetype": "text/x-python",
   "name": "python",
   "nbconvert_exporter": "python",
   "pygments_lexer": "ipython3",
   "version": "3.12.4"
  }
 },
 "nbformat": 4,
 "nbformat_minor": 2
}
