{
 "cells": [
  {
   "cell_type": "code",
   "execution_count": 26,
   "metadata": {},
   "outputs": [
    {
     "name": "stdout",
     "output_type": "stream",
     "text": [
      "Confusion Matrix:\n",
      "[[36  0  4  9 14]\n",
      " [ 2 29  5 36  8]\n",
      " [ 8 24 16 39  6]\n",
      " [ 9  8 13 59  7]\n",
      " [ 8  1  6 17 36]]\n",
      "\n",
      "Classification Report:\n",
      "              precision    recall  f1-score   support\n",
      "\n",
      "           0       0.57      0.57      0.57        63\n",
      "           1       0.47      0.36      0.41        80\n",
      "           2       0.36      0.17      0.23        93\n",
      "           3       0.37      0.61      0.46        96\n",
      "           4       0.51      0.53      0.52        68\n",
      "\n",
      "    accuracy                           0.44       400\n",
      "   macro avg       0.46      0.45      0.44       400\n",
      "weighted avg       0.44      0.44      0.42       400\n",
      "\n",
      "\n",
      "Predicted Learning Path for the new employee: Machine Learning\n"
     ]
    }
   ],
   "source": [
    "import pandas as pd\n",
    "from sklearn.model_selection import train_test_split\n",
    "from sklearn.preprocessing import LabelEncoder\n",
    "from sklearn.ensemble import GradientBoostingClassifier\n",
    "from sklearn.metrics import classification_report, confusion_matrix\n",
    "\n",
    "data=pd.read_csv('../DataEngineering/Report_Layer/fact.csv')\n",
    "\n",
    "# Create DataFrame\n",
    "df = pd.DataFrame(data)\n",
    "\n",
    "# Encode categorical variables\n",
    "le_designation = LabelEncoder()\n",
    "le_difficulty = LabelEncoder()\n",
    "le_learning_path = LabelEncoder()\n",
    "le_course_name=LabelEncoder()\n",
    "\n",
    "df['designation'] = le_designation.fit_transform(df['designation'])\n",
    "df['difficulty_level'] = le_difficulty.fit_transform(df['difficulty_level'])\n",
    "df['learning_path'] = le_learning_path.fit_transform(df['learning_path'])\n",
    "df['course_name'] = le_course_name.fit_transform(df['course_name'])\n",
    "\n",
    "# Features and target variable\n",
    "X = df[['designation', 'duration_weeks', 'difficulty_level', 'completion_rate']]\n",
    "y = df['learning_path']\n",
    "\n",
    "# Split data into training and testing sets\n",
    "X_train, X_test, y_train, y_test = train_test_split(X, y, test_size=0.2, random_state=42)\n",
    "\n",
    "# Create Gradient Boosting model\n",
    "gb_model = GradientBoostingClassifier(n_estimators=100, learning_rate=0.1, max_depth=3, random_state=42)\n",
    "gb_model.fit(X_train, y_train)\n",
    "\n",
    "# Make predictions\n",
    "y_pred = gb_model.predict(X_test)\n",
    "\n",
    "# Evaluation\n",
    "print(\"Confusion Matrix:\")\n",
    "print(confusion_matrix(y_test, y_pred))\n",
    "print(\"\\nClassification Report:\")\n",
    "print(classification_report(y_test, y_pred))\n",
    "\n",
    "# Optional: Predict a new sample\n",
    "new_employee = pd.DataFrame({\n",
    "    'designation': [le_designation.transform(['DevOps'])[0]], \n",
    "    'duration_weeks': [4], \n",
    "    'difficulty_level': [le_difficulty.transform(['Beginner'])[0]], \n",
    "    'completion_rate': [8.0]\n",
    "})\n",
    "\n",
    "predicted_learning_path = le_learning_path.inverse_transform(gb_model.predict(new_employee))\n",
    "print(f\"\\nPredicted Learning Path for the new employee: {predicted_learning_path[0]}\")\n"
   ]
  },
  {
   "cell_type": "code",
   "execution_count": null,
   "metadata": {},
   "outputs": [],
   "source": []
  }
 ],
 "metadata": {
  "kernelspec": {
   "display_name": "Python 3",
   "language": "python",
   "name": "python3"
  },
  "language_info": {
   "codemirror_mode": {
    "name": "ipython",
    "version": 3
   },
   "file_extension": ".py",
   "mimetype": "text/x-python",
   "name": "python",
   "nbconvert_exporter": "python",
   "pygments_lexer": "ipython3",
   "version": "3.12.4"
  }
 },
 "nbformat": 4,
 "nbformat_minor": 2
}
