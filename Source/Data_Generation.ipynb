{
 "cells": [
  {
   "cell_type": "code",
   "execution_count": 13,
   "metadata": {},
   "outputs": [
    {
     "data": {
      "text/plain": [
       "'Data/employee.csv'"
      ]
     },
     "execution_count": 13,
     "metadata": {},
     "output_type": "execute_result"
    }
   ],
   "source": [
    "import pandas as pd\n",
    "import random\n",
    "\n",
    "# Helper function to generate random email addresses and phone numbers\n",
    "def generate_email(emp_id):\n",
    "    return f\"employee{emp_id}@emp.com\"\n",
    "\n",
    "def generate_phone_number():\n",
    "    return f\"{random.randint(7000000000, 9999999999)}\"\n",
    "\n",
    "# Designation and performance rates pool\n",
    "designations = [\"SDE1\", \"SDE2\", \"Manager\", \"Lead\", \"HR\", \"Designer\", \"QA\", \"DevOps\"]\n",
    "performance_rates = 0\n",
    "\n",
    "# Generating data\n",
    "employee_data = []\n",
    "\n",
    "for i in range(1, 501):\n",
    "    emp_id = f\"EMP{i:03}\"\n",
    "    name = f\"Employee{i}\"\n",
    "    designation = random.choice(designations)\n",
    "    password = f\"password{i}\"\n",
    "    email = generate_email(i)\n",
    "    mobile = generate_phone_number()\n",
    "    performance_rate = performance_rates\n",
    "\n",
    "    employee_data.append([emp_id, name, designation, password, email, mobile, performance_rate])\n",
    "\n",
    "# Creating a DataFrame\n",
    "columns = [\"empID\", \"name\", \"designation\", \"password\", \"email\", \"mobile\", \"performance_rate\"]\n",
    "df = pd.DataFrame(employee_data, columns=columns)\n",
    "\n",
    "# Saving to CSV\n",
    "file_path = \"Source/employee.csv\"\n",
    "df.to_csv(file_path, index=False)\n",
    "\n",
    "file_path\n"
   ]
  },
  {
   "cell_type": "code",
   "execution_count": 8,
   "metadata": {},
   "outputs": [],
   "source": [
    "import pandas as pd\n",
    "import random\n",
    "\n",
    "# Define course parameters\n",
    "num_courses = 50\n",
    "learning_paths = ['Web Development', 'Data Science', 'Machine Learning', 'Cloud Computing', 'Cybersecurity']\n",
    "course_names = [\n",
    "    'Introduction to Programming', 'Data Structures', 'Algorithms', 'Web Design', 'Database Management',\n",
    "    'Software Engineering', 'Machine Learning Basics', 'Deep Learning', 'Data Analysis with Python', \n",
    "    'Web Development with React', 'Mobile App Development', 'Cloud Basics', 'DevOps Fundamentals', \n",
    "    'Information Security', 'Networking Essentials', 'Frontend Development', 'Backend Development',\n",
    "    'API Development', 'Responsive Web Design', 'Game Development', 'UI/UX Design', 'Business Analytics',\n",
    "    'Data Visualization', 'Big Data Technologies', 'Artificial Intelligence', 'Blockchain Basics',\n",
    "    'Virtualization Technologies', 'Ethical Hacking', 'Penetration Testing', 'Digital Marketing',\n",
    "    'SEO Strategies', 'Project Management', 'Agile Methodologies', 'Scrum Master Certification',\n",
    "    'ITIL Foundation', 'System Administration', 'Network Security', 'Software Testing',\n",
    "    'Quality Assurance', 'Technical Writing', 'Cloud Security', 'Python for Data Science',\n",
    "    'Data Science with R', 'IoT Fundamentals', 'Full Stack Development', 'E-commerce Development',\n",
    "    'Remote Work Skills', 'Product Management', 'Time Management', 'Creative Thinking', \n",
    "    'Public Speaking', 'Negotiation Skills'\n",
    "]\n",
    "\n",
    "# Generate courses\n",
    "courses = []\n",
    "for i in range(num_courses):\n",
    "    course = {\n",
    "        'courseID': f'COURSE{i+1:03}',\n",
    "        'name': random.choice(course_names),\n",
    "        'duration': f'{random.randint(1, 6)} weeks',\n",
    "        'difficulty_level': random.choice(['Beginner', 'Intermediate', 'Advanced']),\n",
    "        'learning_path': random.choice(learning_paths)\n",
    "    }\n",
    "    courses.append(course)\n",
    "\n",
    "# Create DataFrame and save to CSV\n",
    "courses_df = pd.DataFrame(courses)\n",
    "courses_df.to_csv('Source/courses.csv', index=False)\n"
   ]
  },
  {
   "cell_type": "code",
   "execution_count": 12,
   "metadata": {},
   "outputs": [
    {
     "name": "stdout",
     "output_type": "stream",
     "text": [
      "CSV file 'employee_course.csv' created successfully.\n"
     ]
    }
   ],
   "source": [
    "import pandas as pd\n",
    "import random\n",
    "\n",
    "# Sample employee and course data\n",
    "employee_ids = [f'EMP{i:03}' for i in range(1, 501)]  # Generating 500 employee IDs\n",
    "course_ids = [f'COURSE{i:03}' for i in range(1, 51)]  # Generating 50 course IDs\n",
    "\n",
    "# Create a list to hold the employee-course mappings\n",
    "data = []\n",
    "\n",
    "# Generate 2000 employee-course records\n",
    "for _ in range(2000):\n",
    "    emp_id = random.choice(employee_ids)\n",
    "    course_id = random.choice(course_ids)\n",
    "    completion_rate = random.randint(0, 100)  # Random completion rate between 0 and 100\n",
    "    data.append([emp_id, course_id, completion_rate])\n",
    "\n",
    "# Create a DataFrame from the data\n",
    "df = pd.DataFrame(data, columns=['empID', 'courseID', 'completion_rate'])\n",
    "\n",
    "# Save the DataFrame to a CSV file\n",
    "df.to_csv('Source/employee_course.csv', index=False)\n",
    "\n",
    "print(\"CSV file 'employee_course.csv' created successfully.\")\n"
   ]
  },
  {
   "cell_type": "code",
   "execution_count": null,
   "metadata": {},
   "outputs": [],
   "source": []
  }
 ],
 "metadata": {
  "kernelspec": {
   "display_name": "Python 3",
   "language": "python",
   "name": "python3"
  },
  "language_info": {
   "codemirror_mode": {
    "name": "ipython",
    "version": 3
   },
   "file_extension": ".py",
   "mimetype": "text/x-python",
   "name": "python",
   "nbconvert_exporter": "python",
   "pygments_lexer": "ipython3",
   "version": "3.12.4"
  }
 },
 "nbformat": 4,
 "nbformat_minor": 2
}
