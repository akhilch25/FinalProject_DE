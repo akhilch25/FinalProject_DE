{
 "cells": [
  {
   "cell_type": "code",
   "execution_count": 13,
   "metadata": {},
   "outputs": [
    {
     "data": {
      "text/plain": [
       "'Data/employee.csv'"
      ]
     },
     "execution_count": 13,
     "metadata": {},
     "output_type": "execute_result"
    }
   ],
   "source": [
    "import pandas as pd\n",
    "import random\n",
    "\n",
    "# Helper function to generate random email addresses and phone numbers\n",
    "def generate_email(emp_id):\n",
    "    return f\"employee{emp_id}@emp.com\"\n",
    "\n",
    "def generate_phone_number():\n",
    "    return f\"{random.randint(7000000000, 9999999999)}\"\n",
    "\n",
    "# Designation and performance rates pool\n",
    "designations = [\"SDE1\", \"SDE2\", \"Manager\", \"Lead\", \"HR\", \"Designer\", \"QA\", \"DevOps\"]\n",
    "performance_rates = 0\n",
    "\n",
    "# Generating data\n",
    "employee_data = []\n",
    "\n",
    "for i in range(1, 501):\n",
    "    emp_id = f\"EMP{i:03}\"\n",
    "    name = f\"Employee{i}\"\n",
    "    designation = random.choice(designations)\n",
    "    password = f\"password{i}\"\n",
    "    email = generate_email(i)\n",
    "    mobile = generate_phone_number()\n",
    "    performance_rate = performance_rates\n",
    "\n",
    "    employee_data.append([emp_id, name, designation, password, email, mobile, performance_rate])\n",
    "\n",
    "# Creating a DataFrame\n",
    "columns = [\"empID\", \"name\", \"designation\", \"password\", \"email\", \"mobile\", \"performance_rate\"]\n",
    "df = pd.DataFrame(employee_data, columns=columns)\n",
    "\n",
    "# Saving to CSV\n",
    "file_path = \"Source/employee.csv\"\n",
    "df.to_csv(file_path, index=False)\n",
    "\n",
    "file_path\n"
   ]
  },
  {
   "cell_type": "code",
   "execution_count": 8,
   "metadata": {},
   "outputs": [],
   "source": [
    "import pandas as pd\n",
    "import random\n",
    "\n",
    "# Define course parameters\n",
    "num_courses = 50\n",
    "learning_paths = ['Web Development', 'Data Science', 'Machine Learning', 'Cloud Computing', 'Cybersecurity']\n",
    "course_names = [\n",
    "    'Introduction to Programming', 'Data Structures', 'Algorithms', 'Web Design', 'Database Management',\n",
    "    'Software Engineering', 'Machine Learning Basics', 'Deep Learning', 'Data Analysis with Python', \n",
    "    'Web Development with React', 'Mobile App Development', 'Cloud Basics', 'DevOps Fundamentals', \n",
    "    'Information Security', 'Networking Essentials', 'Frontend Development', 'Backend Development',\n",
    "    'API Development', 'Responsive Web Design', 'Game Development', 'UI/UX Design', 'Business Analytics',\n",
    "    'Data Visualization', 'Big Data Technologies', 'Artificial Intelligence', 'Blockchain Basics',\n",
    "    'Virtualization Technologies', 'Ethical Hacking', 'Penetration Testing', 'Digital Marketing',\n",
    "    'SEO Strategies', 'Project Management', 'Agile Methodologies', 'Scrum Master Certification',\n",
    "    'ITIL Foundation', 'System Administration', 'Network Security', 'Software Testing',\n",
    "    'Quality Assurance', 'Technical Writing', 'Cloud Security', 'Python for Data Science',\n",
    "    'Data Science with R', 'IoT Fundamentals', 'Full Stack Development', 'E-commerce Development',\n",
    "    'Remote Work Skills', 'Product Management', 'Time Management', 'Creative Thinking', \n",
    "    'Public Speaking', 'Negotiation Skills'\n",
    "]\n",
    "\n",
    "# Generate courses\n",
    "courses = []\n",
    "for i in range(num_courses):\n",
    "    course = {\n",
    "        'courseID': f'COURSE{i+1:03}',\n",
    "        'name': random.choice(course_names),\n",
    "        'duration': f'{random.randint(1, 6)} weeks',\n",
    "        'difficulty_level': random.choice(['Beginner', 'Intermediate', 'Advanced']),\n",
    "        'learning_path': random.choice(learning_paths)\n",
    "    }\n",
    "    courses.append(course)\n",
    "\n",
    "# Create DataFrame and save to CSV\n",
    "courses_df = pd.DataFrame(courses)\n",
    "courses_df.to_csv('Source/courses.csv', index=False)\n"
   ]
  },
  {
   "cell_type": "code",
   "execution_count": 1,
   "metadata": {},
   "outputs": [
    {
     "name": "stdout",
     "output_type": "stream",
     "text": [
      "CSV file saved to: employee_course_completion_updated.csv\n"
     ]
    }
   ],
   "source": [
    "import pandas as pd\n",
    "import numpy as np\n",
    "\n",
    "# Set random seed for reproducibility\n",
    "np.random.seed(0)\n",
    "\n",
    "# Parameters\n",
    "num_records = 2000\n",
    "emp_ids = [f'EMP{str(i).zfill(3)}' for i in range(1, 501)]  # 500 employee IDs\n",
    "course_ids = [f'COURSE{str(i).zfill(3)}' for i in range(1, 51)]  # 50 course IDs\n",
    "\n",
    "# Create unique combinations of empID and courseID\n",
    "emp_course_combinations = [(emp_id, course_id) for emp_id in emp_ids for course_id in course_ids]\n",
    "\n",
    "# Ensure we have enough unique combinations\n",
    "if len(emp_course_combinations) < num_records:\n",
    "    raise ValueError(\"Not enough unique combinations to generate 2000 records.\")\n",
    "\n",
    "# Randomly select 2000 unique combinations\n",
    "selected_combinations = np.random.choice(range(len(emp_course_combinations)), size=num_records, replace=False)\n",
    "unique_combinations = [emp_course_combinations[i] for i in selected_combinations]\n",
    "\n",
    "# Generate completion rates between 0 and 100\n",
    "completion_rates = np.random.uniform(0, 100, num_records).round(2)\n",
    "\n",
    "# Create DataFrame\n",
    "df = pd.DataFrame(unique_combinations, columns=['empID', 'courseID'])\n",
    "df['completion_rate'] = completion_rates\n",
    "\n",
    "# Save to CSV\n",
    "output_file_path = 'employee_course_completion_updated.csv'\n",
    "df.to_csv(output_file_path, index=False)\n",
    "\n",
    "print(f\"CSV file saved to: {output_file_path}\")\n"
   ]
  },
  {
   "cell_type": "code",
   "execution_count": null,
   "metadata": {},
   "outputs": [],
   "source": []
  }
 ],
 "metadata": {
  "kernelspec": {
   "display_name": "Python 3",
   "language": "python",
   "name": "python3"
  },
  "language_info": {
   "codemirror_mode": {
    "name": "ipython",
    "version": 3
   },
   "file_extension": ".py",
   "mimetype": "text/x-python",
   "name": "python",
   "nbconvert_exporter": "python",
   "pygments_lexer": "ipython3",
   "version": "3.12.4"
  }
 },
 "nbformat": 4,
 "nbformat_minor": 2
}
