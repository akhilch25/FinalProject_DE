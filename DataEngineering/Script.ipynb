{
 "cells": [
  {
   "cell_type": "markdown",
   "metadata": {},
   "source": [
    "Staging Layer"
   ]
  },
  {
   "cell_type": "code",
   "execution_count": 27,
   "metadata": {},
   "outputs": [],
   "source": [
    "import pandas as pd\n",
    "employee = pd.read_csv('../Source/employee.csv')\n",
    "course = pd.read_csv('../Source/courses.csv')\n",
    "employee_course = pd.read_csv('../Source/employee_course.csv')"
   ]
  },
  {
   "cell_type": "code",
   "execution_count": 28,
   "metadata": {},
   "outputs": [],
   "source": [
    "employee_df = pd.DataFrame(employee)\n",
    "course_df = pd.DataFrame(course)\n",
    "employee_course_df = pd.DataFrame(employee_course)"
   ]
  },
  {
   "cell_type": "code",
   "execution_count": 29,
   "metadata": {},
   "outputs": [
    {
     "name": "stdout",
     "output_type": "stream",
     "text": [
      "<class 'pandas.core.frame.DataFrame'>\n",
      "RangeIndex: 500 entries, 0 to 499\n",
      "Data columns (total 8 columns):\n",
      " #   Column            Non-Null Count  Dtype \n",
      "---  ------            --------------  ----- \n",
      " 0   id                500 non-null    int64 \n",
      " 1   empID             500 non-null    object\n",
      " 2   name              500 non-null    object\n",
      " 3   designation       500 non-null    object\n",
      " 4   password          500 non-null    object\n",
      " 5   email             500 non-null    object\n",
      " 6   mobile            500 non-null    int64 \n",
      " 7   performance_rate  500 non-null    int64 \n",
      "dtypes: int64(3), object(5)\n",
      "memory usage: 31.4+ KB\n",
      "None\n",
      "<class 'pandas.core.frame.DataFrame'>\n",
      "RangeIndex: 50 entries, 0 to 49\n",
      "Data columns (total 6 columns):\n",
      " #   Column            Non-Null Count  Dtype \n",
      "---  ------            --------------  ----- \n",
      " 0   id                50 non-null     int64 \n",
      " 1   courseID          50 non-null     object\n",
      " 2   name              50 non-null     object\n",
      " 3   duration          50 non-null     object\n",
      " 4   difficulty_level  50 non-null     object\n",
      " 5   learning_path     50 non-null     object\n",
      "dtypes: int64(1), object(5)\n",
      "memory usage: 2.5+ KB\n",
      "None\n",
      "<class 'pandas.core.frame.DataFrame'>\n",
      "RangeIndex: 2000 entries, 0 to 1999\n",
      "Data columns (total 3 columns):\n",
      " #   Column           Non-Null Count  Dtype  \n",
      "---  ------           --------------  -----  \n",
      " 0   empID            2000 non-null   object \n",
      " 1   courseID         2000 non-null   object \n",
      " 2   completion_rate  2000 non-null   float64\n",
      "dtypes: float64(1), object(2)\n",
      "memory usage: 47.0+ KB\n",
      "None\n"
     ]
    }
   ],
   "source": [
    "print(employee.info())\n",
    "print(course.info())\n",
    "print(employee_course_df.info())"
   ]
  },
  {
   "cell_type": "code",
   "execution_count": 30,
   "metadata": {},
   "outputs": [],
   "source": [
    "employee_df.to_csv('Staging_Layer/employee.csv', index=False)\n",
    "course_df.to_csv('Staging_Layer/course.csv', index=False)\n",
    "employee_course_df.to_csv('Staging_Layer/employee_course.csv',index=False)"
   ]
  },
  {
   "cell_type": "markdown",
   "metadata": {},
   "source": [
    "Mart Layer"
   ]
  },
  {
   "cell_type": "code",
   "execution_count": null,
   "metadata": {},
   "outputs": [],
   "source": []
  }
 ],
 "metadata": {
  "kernelspec": {
   "display_name": "Python 3",
   "language": "python",
   "name": "python3"
  },
  "language_info": {
   "codemirror_mode": {
    "name": "ipython",
    "version": 3
   },
   "file_extension": ".py",
   "mimetype": "text/x-python",
   "name": "python",
   "nbconvert_exporter": "python",
   "pygments_lexer": "ipython3",
   "version": "3.12.4"
  }
 },
 "nbformat": 4,
 "nbformat_minor": 2
}
