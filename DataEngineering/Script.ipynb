{
 "cells": [
  {
   "cell_type": "code",
   "execution_count": 157,
   "metadata": {},
   "outputs": [],
   "source": [
    "import os\n",
    "import pandas as pd\n",
    "\n",
    "staging_path='Staging_Layer'\n",
    "mart_path='Mart_Layer'\n",
    "report_path='Report_Layer'\n",
    "\n",
    "os.makedirs(staging_path, exist_ok=True)\n",
    "os.makedirs(mart_path, exist_ok=True)\n",
    "os.makedirs(report_path, exist_ok=True)"
   ]
  },
  {
   "cell_type": "markdown",
   "metadata": {},
   "source": [
    "----------------------------------------------------------------------------------Staging Layer----------------------------------------------------------------------------------"
   ]
  },
  {
   "cell_type": "code",
   "execution_count": 133,
   "metadata": {},
   "outputs": [],
   "source": [
    "import pandas as pd\n",
    "employee = pd.read_csv('../Source/employee.csv')\n",
    "course = pd.read_csv('../Source/courses.csv')\n",
    "employee_course = pd.read_csv('../Source/employee_course.csv')"
   ]
  },
  {
   "cell_type": "code",
   "execution_count": 134,
   "metadata": {},
   "outputs": [],
   "source": [
    "employee_df = pd.DataFrame(employee)\n",
    "course_df = pd.DataFrame(course)\n",
    "employee_course_df = pd.DataFrame(employee_course)"
   ]
  },
  {
   "cell_type": "code",
   "execution_count": 135,
   "metadata": {},
   "outputs": [
    {
     "name": "stdout",
     "output_type": "stream",
     "text": [
      "<class 'pandas.core.frame.DataFrame'>\n",
      "RangeIndex: 500 entries, 0 to 499\n",
      "Data columns (total 8 columns):\n",
      " #   Column            Non-Null Count  Dtype \n",
      "---  ------            --------------  ----- \n",
      " 0   id                500 non-null    int64 \n",
      " 1   empID             500 non-null    object\n",
      " 2   name              500 non-null    object\n",
      " 3   designation       500 non-null    object\n",
      " 4   password          500 non-null    object\n",
      " 5   email             500 non-null    object\n",
      " 6   mobile            500 non-null    int64 \n",
      " 7   performance_rate  500 non-null    int64 \n",
      "dtypes: int64(3), object(5)\n",
      "memory usage: 31.4+ KB\n",
      "None\n",
      "<class 'pandas.core.frame.DataFrame'>\n",
      "RangeIndex: 50 entries, 0 to 49\n",
      "Data columns (total 6 columns):\n",
      " #   Column            Non-Null Count  Dtype \n",
      "---  ------            --------------  ----- \n",
      " 0   id                50 non-null     int64 \n",
      " 1   courseID          50 non-null     object\n",
      " 2   name              50 non-null     object\n",
      " 3   duration          50 non-null     object\n",
      " 4   difficulty_level  50 non-null     object\n",
      " 5   learning_path     50 non-null     object\n",
      "dtypes: int64(1), object(5)\n",
      "memory usage: 2.5+ KB\n",
      "None\n",
      "<class 'pandas.core.frame.DataFrame'>\n",
      "RangeIndex: 2000 entries, 0 to 1999\n",
      "Data columns (total 3 columns):\n",
      " #   Column           Non-Null Count  Dtype  \n",
      "---  ------           --------------  -----  \n",
      " 0   empID            2000 non-null   object \n",
      " 1   courseID         2000 non-null   object \n",
      " 2   completion_rate  2000 non-null   float64\n",
      "dtypes: float64(1), object(2)\n",
      "memory usage: 47.0+ KB\n",
      "None\n"
     ]
    }
   ],
   "source": [
    "print(employee.info())\n",
    "print(course.info())\n",
    "print(employee_course_df.info())"
   ]
  },
  {
   "cell_type": "code",
   "execution_count": 136,
   "metadata": {},
   "outputs": [],
   "source": [
    "employee_df.to_csv('Staging_Layer/employee.csv', index=False)\n",
    "course_df.to_csv('Staging_Layer/course.csv', index=False)\n",
    "employee_course_df.to_csv('Staging_Layer/employee_course.csv',index=False)"
   ]
  },
  {
   "cell_type": "markdown",
   "metadata": {},
   "source": [
    "---------------------------------------------------------------------------------Mart Layer---------------------------------------------------------------------------------"
   ]
  },
  {
   "cell_type": "markdown",
   "metadata": {},
   "source": [
    "Course Table"
   ]
  },
  {
   "cell_type": "code",
   "execution_count": 137,
   "metadata": {},
   "outputs": [
    {
     "name": "stdout",
     "output_type": "stream",
     "text": [
      "<class 'pandas.core.frame.DataFrame'>\n",
      "RangeIndex: 50 entries, 0 to 49\n",
      "Data columns (total 6 columns):\n",
      " #   Column            Non-Null Count  Dtype \n",
      "---  ------            --------------  ----- \n",
      " 0   id                50 non-null     int64 \n",
      " 1   courseID          50 non-null     object\n",
      " 2   name              50 non-null     object\n",
      " 3   duration          50 non-null     object\n",
      " 4   difficulty_level  50 non-null     object\n",
      " 5   learning_path     50 non-null     object\n",
      "dtypes: int64(1), object(5)\n",
      "memory usage: 2.5+ KB\n"
     ]
    }
   ],
   "source": [
    "course_mart_df = pd.read_csv('Staging_Layer/course.csv')\n",
    "course_mart_df.info()"
   ]
  },
  {
   "cell_type": "code",
   "execution_count": 138,
   "metadata": {},
   "outputs": [
    {
     "name": "stderr",
     "output_type": "stream",
     "text": [
      "C:\\Users\\AkhilKumar\\AppData\\Local\\Temp\\ipykernel_2588\\3279152316.py:2: FutureWarning: A value is trying to be set on a copy of a DataFrame or Series through chained assignment using an inplace method.\n",
      "The behavior will change in pandas 3.0. This inplace method will never work because the intermediate object on which we are setting values always behaves as a copy.\n",
      "\n",
      "For example, when doing 'df[col].method(value, inplace=True)', try using 'df.method({col: value}, inplace=True)' or df[col] = df[col].method(value) instead, to perform the operation inplace on the original object.\n",
      "\n",
      "\n",
      "  course_mart_df['name'].fillna('Unknown', inplace=True)  # Filling with 'Unknown' for name\n",
      "C:\\Users\\AkhilKumar\\AppData\\Local\\Temp\\ipykernel_2588\\3279152316.py:3: FutureWarning: A value is trying to be set on a copy of a DataFrame or Series through chained assignment using an inplace method.\n",
      "The behavior will change in pandas 3.0. This inplace method will never work because the intermediate object on which we are setting values always behaves as a copy.\n",
      "\n",
      "For example, when doing 'df[col].method(value, inplace=True)', try using 'df.method({col: value}, inplace=True)' or df[col] = df[col].method(value) instead, to perform the operation inplace on the original object.\n",
      "\n",
      "\n",
      "  course_mart_df['duration'].fillna('Not Specified', inplace=True)  # Fill with 'Not Specified'\n",
      "C:\\Users\\AkhilKumar\\AppData\\Local\\Temp\\ipykernel_2588\\3279152316.py:4: FutureWarning: A value is trying to be set on a copy of a DataFrame or Series through chained assignment using an inplace method.\n",
      "The behavior will change in pandas 3.0. This inplace method will never work because the intermediate object on which we are setting values always behaves as a copy.\n",
      "\n",
      "For example, when doing 'df[col].method(value, inplace=True)', try using 'df.method({col: value}, inplace=True)' or df[col] = df[col].method(value) instead, to perform the operation inplace on the original object.\n",
      "\n",
      "\n",
      "  course_mart_df['difficulty_level'].fillna('Not Specified', inplace=True)  # Fill with 'Not Specified'\n",
      "C:\\Users\\AkhilKumar\\AppData\\Local\\Temp\\ipykernel_2588\\3279152316.py:5: FutureWarning: A value is trying to be set on a copy of a DataFrame or Series through chained assignment using an inplace method.\n",
      "The behavior will change in pandas 3.0. This inplace method will never work because the intermediate object on which we are setting values always behaves as a copy.\n",
      "\n",
      "For example, when doing 'df[col].method(value, inplace=True)', try using 'df.method({col: value}, inplace=True)' or df[col] = df[col].method(value) instead, to perform the operation inplace on the original object.\n",
      "\n",
      "\n",
      "  course_mart_df['learning_path'].fillna('Not Assigned', inplace=True)  # Fill with 'Not Assigned'\n"
     ]
    }
   ],
   "source": [
    "course_mart_df.dropna(subset=['courseID'], inplace=True) # Drop rows with null courseID\n",
    "course_mart_df['name'].fillna('Unknown', inplace=True)  # Filling with 'Unknown' for name\n",
    "course_mart_df['duration'].fillna('Not Specified', inplace=True)  # Fill with 'Not Specified'\n",
    "course_mart_df['difficulty_level'].fillna('Not Specified', inplace=True)  # Fill with 'Not Specified'\n",
    "course_mart_df['learning_path'].fillna('Not Assigned', inplace=True)  # Fill with 'Not Assigned'\n",
    "course_mart_df=course_mart_df.drop_duplicates() # Dropping duplicate values"
   ]
  },
  {
   "cell_type": "code",
   "execution_count": 139,
   "metadata": {},
   "outputs": [],
   "source": [
    "def convert_duration_to_weeks(duration):\n",
    "    if isinstance(duration, str):\n",
    "        # Extract number and convert to weeks based on context\n",
    "        if 'week' in duration.lower():\n",
    "            return int(duration.split()[0])  # Returns the numeric part\n",
    "        elif 'month' in duration.lower():\n",
    "            return int(duration.split()[0]) * 4  # Assuming 1 month = 4 weeks\n",
    "        elif 'year' in duration.lower():\n",
    "            return int(duration.split()[0]) * 52 # Assuming 1 year = 52 weeks\n",
    "    return None  # For 'Not Specified' or other values\n",
    "\n",
    "# Apply conversion to a new column for numerical representation\n",
    "course_mart_df['duration_weeks'] = course_mart_df['duration'].apply(convert_duration_to_weeks)"
   ]
  },
  {
   "cell_type": "code",
   "execution_count": 140,
   "metadata": {},
   "outputs": [
    {
     "data": {
      "text/html": [
       "<div>\n",
       "<style scoped>\n",
       "    .dataframe tbody tr th:only-of-type {\n",
       "        vertical-align: middle;\n",
       "    }\n",
       "\n",
       "    .dataframe tbody tr th {\n",
       "        vertical-align: top;\n",
       "    }\n",
       "\n",
       "    .dataframe thead th {\n",
       "        text-align: right;\n",
       "    }\n",
       "</style>\n",
       "<table border=\"1\" class=\"dataframe\">\n",
       "  <thead>\n",
       "    <tr style=\"text-align: right;\">\n",
       "      <th></th>\n",
       "      <th>id</th>\n",
       "      <th>courseID</th>\n",
       "      <th>name</th>\n",
       "      <th>duration</th>\n",
       "      <th>difficulty_level</th>\n",
       "      <th>learning_path</th>\n",
       "      <th>duration_weeks</th>\n",
       "    </tr>\n",
       "  </thead>\n",
       "  <tbody>\n",
       "    <tr>\n",
       "      <th>0</th>\n",
       "      <td>1</td>\n",
       "      <td>COURSE001</td>\n",
       "      <td>Technical Writing</td>\n",
       "      <td>6 weeks</td>\n",
       "      <td>Advanced</td>\n",
       "      <td>Data Science</td>\n",
       "      <td>6</td>\n",
       "    </tr>\n",
       "    <tr>\n",
       "      <th>1</th>\n",
       "      <td>2</td>\n",
       "      <td>COURSE002</td>\n",
       "      <td>Database Management</td>\n",
       "      <td>2 weeks</td>\n",
       "      <td>Beginner</td>\n",
       "      <td>Cloud Computing</td>\n",
       "      <td>2</td>\n",
       "    </tr>\n",
       "    <tr>\n",
       "      <th>2</th>\n",
       "      <td>3</td>\n",
       "      <td>COURSE003</td>\n",
       "      <td>ITIL Foundation</td>\n",
       "      <td>5 weeks</td>\n",
       "      <td>Intermediate</td>\n",
       "      <td>Cloud Computing</td>\n",
       "      <td>5</td>\n",
       "    </tr>\n",
       "    <tr>\n",
       "      <th>3</th>\n",
       "      <td>4</td>\n",
       "      <td>COURSE004</td>\n",
       "      <td>Network Security</td>\n",
       "      <td>5 weeks</td>\n",
       "      <td>Beginner</td>\n",
       "      <td>Data Science</td>\n",
       "      <td>5</td>\n",
       "    </tr>\n",
       "    <tr>\n",
       "      <th>4</th>\n",
       "      <td>5</td>\n",
       "      <td>COURSE005</td>\n",
       "      <td>Machine Learning Basics</td>\n",
       "      <td>4 weeks</td>\n",
       "      <td>Advanced</td>\n",
       "      <td>Machine Learning</td>\n",
       "      <td>4</td>\n",
       "    </tr>\n",
       "  </tbody>\n",
       "</table>\n",
       "</div>"
      ],
      "text/plain": [
       "   id   courseID                     name duration difficulty_level  \\\n",
       "0   1  COURSE001        Technical Writing  6 weeks         Advanced   \n",
       "1   2  COURSE002      Database Management  2 weeks         Beginner   \n",
       "2   3  COURSE003          ITIL Foundation  5 weeks     Intermediate   \n",
       "3   4  COURSE004         Network Security  5 weeks         Beginner   \n",
       "4   5  COURSE005  Machine Learning Basics  4 weeks         Advanced   \n",
       "\n",
       "      learning_path  duration_weeks  \n",
       "0      Data Science               6  \n",
       "1   Cloud Computing               2  \n",
       "2   Cloud Computing               5  \n",
       "3      Data Science               5  \n",
       "4  Machine Learning               4  "
      ]
     },
     "execution_count": 140,
     "metadata": {},
     "output_type": "execute_result"
    }
   ],
   "source": [
    "course_mart_df.to_csv('Mart_Layer/course.csv',index=False)\n",
    "course_mart_df.head()"
   ]
  },
  {
   "cell_type": "markdown",
   "metadata": {},
   "source": [
    "Employee_Course Table"
   ]
  },
  {
   "cell_type": "code",
   "execution_count": 141,
   "metadata": {},
   "outputs": [
    {
     "name": "stdout",
     "output_type": "stream",
     "text": [
      "<class 'pandas.core.frame.DataFrame'>\n",
      "RangeIndex: 2000 entries, 0 to 1999\n",
      "Data columns (total 3 columns):\n",
      " #   Column           Non-Null Count  Dtype  \n",
      "---  ------           --------------  -----  \n",
      " 0   empID            2000 non-null   object \n",
      " 1   courseID         2000 non-null   object \n",
      " 2   completion_rate  2000 non-null   float64\n",
      "dtypes: float64(1), object(2)\n",
      "memory usage: 47.0+ KB\n"
     ]
    }
   ],
   "source": [
    "employee_course_mart_df=pd.read_csv('Staging_Layer/employee_course.csv')\n",
    "employee_course_mart_df.info()"
   ]
  },
  {
   "cell_type": "code",
   "execution_count": 142,
   "metadata": {},
   "outputs": [],
   "source": [
    "employee_course_mart_df=employee_course_mart_df.drop_duplicates() # Dropping duplicate values"
   ]
  },
  {
   "cell_type": "code",
   "execution_count": 143,
   "metadata": {},
   "outputs": [],
   "source": [
    "# Moving data into Mart Layer\n",
    "employee_course_mart_df.to_csv('Mart_Layer/employee_course.csv', index=False)"
   ]
  },
  {
   "cell_type": "markdown",
   "metadata": {},
   "source": [
    "Employee Table"
   ]
  },
  {
   "cell_type": "code",
   "execution_count": 144,
   "metadata": {},
   "outputs": [
    {
     "name": "stdout",
     "output_type": "stream",
     "text": [
      "<class 'pandas.core.frame.DataFrame'>\n",
      "RangeIndex: 500 entries, 0 to 499\n",
      "Data columns (total 8 columns):\n",
      " #   Column            Non-Null Count  Dtype \n",
      "---  ------            --------------  ----- \n",
      " 0   id                500 non-null    int64 \n",
      " 1   empID             500 non-null    object\n",
      " 2   name              500 non-null    object\n",
      " 3   designation       500 non-null    object\n",
      " 4   password          500 non-null    object\n",
      " 5   email             500 non-null    object\n",
      " 6   mobile            500 non-null    int64 \n",
      " 7   performance_rate  500 non-null    int64 \n",
      "dtypes: int64(3), object(5)\n",
      "memory usage: 31.4+ KB\n"
     ]
    }
   ],
   "source": [
    "employee_mart_df = pd.read_csv('Staging_Layer/employee.csv')\n",
    "employee_mart_df.info()"
   ]
  },
  {
   "cell_type": "code",
   "execution_count": 145,
   "metadata": {},
   "outputs": [
    {
     "name": "stdout",
     "output_type": "stream",
     "text": [
      "<class 'pandas.core.frame.DataFrame'>\n",
      "RangeIndex: 500 entries, 0 to 499\n",
      "Data columns (total 8 columns):\n",
      " #   Column            Non-Null Count  Dtype  \n",
      "---  ------            --------------  -----  \n",
      " 0   id                500 non-null    int64  \n",
      " 1   empID             500 non-null    object \n",
      " 2   name              500 non-null    object \n",
      " 3   designation       500 non-null    object \n",
      " 4   password          500 non-null    object \n",
      " 5   email             500 non-null    object \n",
      " 6   mobile            500 non-null    int64  \n",
      " 7   performance_rate  494 non-null    float64\n",
      "dtypes: float64(1), int64(2), object(5)\n",
      "memory usage: 31.4+ KB\n"
     ]
    }
   ],
   "source": [
    "# Dropping performance_rate column \n",
    "employee_mart_df.drop('performance_rate', axis=1, inplace=True)\n",
    "\n",
    "# Calculating mean of completion_rates for each employee\n",
    "mean_completion_rate = employee_course_mart_df.groupby('empID')['completion_rate'].mean().reset_index()\n",
    "\n",
    "# Rename the completion_rate column to performance_rate for clarity\n",
    "mean_completion_rate.rename(columns={'completion_rate': 'performance_rate'}, inplace=True)\n",
    "\n",
    "# Step 2: Merge the mean completion rate back to the employee mart DataFrame\n",
    "merged_df = employee_mart_df.merge(mean_completion_rate, on='empID', how='left')\n",
    "\n",
    "# Assign the performance_rate from the merged DataFrame back to employee_mart_df\n",
    "employee_mart_df['performance_rate'] = merged_df['performance_rate']\n",
    "\n",
    "employee_mart_df.info()"
   ]
  },
  {
   "cell_type": "code",
   "execution_count": 146,
   "metadata": {},
   "outputs": [
    {
     "name": "stdout",
     "output_type": "stream",
     "text": [
      "<class 'pandas.core.frame.DataFrame'>\n",
      "RangeIndex: 500 entries, 0 to 499\n",
      "Data columns (total 8 columns):\n",
      " #   Column            Non-Null Count  Dtype  \n",
      "---  ------            --------------  -----  \n",
      " 0   id                500 non-null    int64  \n",
      " 1   empID             500 non-null    object \n",
      " 2   name              500 non-null    object \n",
      " 3   designation       500 non-null    object \n",
      " 4   password          500 non-null    object \n",
      " 5   email             500 non-null    object \n",
      " 6   mobile            500 non-null    int64  \n",
      " 7   performance_rate  500 non-null    float64\n",
      "dtypes: float64(1), int64(2), object(5)\n",
      "memory usage: 31.4+ KB\n"
     ]
    },
    {
     "name": "stderr",
     "output_type": "stream",
     "text": [
      "C:\\Users\\AkhilKumar\\AppData\\Local\\Temp\\ipykernel_2588\\667963262.py:2: FutureWarning: A value is trying to be set on a copy of a DataFrame or Series through chained assignment using an inplace method.\n",
      "The behavior will change in pandas 3.0. This inplace method will never work because the intermediate object on which we are setting values always behaves as a copy.\n",
      "\n",
      "For example, when doing 'df[col].method(value, inplace=True)', try using 'df.method({col: value}, inplace=True)' or df[col] = df[col].method(value) instead, to perform the operation inplace on the original object.\n",
      "\n",
      "\n",
      "  employee_mart_df['name'].fillna('Unknown',inplace=True)\n",
      "C:\\Users\\AkhilKumar\\AppData\\Local\\Temp\\ipykernel_2588\\667963262.py:3: FutureWarning: A value is trying to be set on a copy of a DataFrame or Series through chained assignment using an inplace method.\n",
      "The behavior will change in pandas 3.0. This inplace method will never work because the intermediate object on which we are setting values always behaves as a copy.\n",
      "\n",
      "For example, when doing 'df[col].method(value, inplace=True)', try using 'df.method({col: value}, inplace=True)' or df[col] = df[col].method(value) instead, to perform the operation inplace on the original object.\n",
      "\n",
      "\n",
      "  employee_mart_df['designation'].fillna('Not Known', inplace=True)\n",
      "C:\\Users\\AkhilKumar\\AppData\\Local\\Temp\\ipykernel_2588\\667963262.py:4: FutureWarning: A value is trying to be set on a copy of a DataFrame or Series through chained assignment using an inplace method.\n",
      "The behavior will change in pandas 3.0. This inplace method will never work because the intermediate object on which we are setting values always behaves as a copy.\n",
      "\n",
      "For example, when doing 'df[col].method(value, inplace=True)', try using 'df.method({col: value}, inplace=True)' or df[col] = df[col].method(value) instead, to perform the operation inplace on the original object.\n",
      "\n",
      "\n",
      "  employee_mart_df['email'].fillna(\"Not Known\", inplace=True)\n",
      "C:\\Users\\AkhilKumar\\AppData\\Local\\Temp\\ipykernel_2588\\667963262.py:5: FutureWarning: A value is trying to be set on a copy of a DataFrame or Series through chained assignment using an inplace method.\n",
      "The behavior will change in pandas 3.0. This inplace method will never work because the intermediate object on which we are setting values always behaves as a copy.\n",
      "\n",
      "For example, when doing 'df[col].method(value, inplace=True)', try using 'df.method({col: value}, inplace=True)' or df[col] = df[col].method(value) instead, to perform the operation inplace on the original object.\n",
      "\n",
      "\n",
      "  employee_mart_df['password'].fillna(employee_mart_df['empID'],inplace=True)\n",
      "C:\\Users\\AkhilKumar\\AppData\\Local\\Temp\\ipykernel_2588\\667963262.py:6: FutureWarning: A value is trying to be set on a copy of a DataFrame or Series through chained assignment using an inplace method.\n",
      "The behavior will change in pandas 3.0. This inplace method will never work because the intermediate object on which we are setting values always behaves as a copy.\n",
      "\n",
      "For example, when doing 'df[col].method(value, inplace=True)', try using 'df.method({col: value}, inplace=True)' or df[col] = df[col].method(value) instead, to perform the operation inplace on the original object.\n",
      "\n",
      "\n",
      "  employee_mart_df['mobile'].fillna(0,inplace=True)\n",
      "C:\\Users\\AkhilKumar\\AppData\\Local\\Temp\\ipykernel_2588\\667963262.py:7: FutureWarning: A value is trying to be set on a copy of a DataFrame or Series through chained assignment using an inplace method.\n",
      "The behavior will change in pandas 3.0. This inplace method will never work because the intermediate object on which we are setting values always behaves as a copy.\n",
      "\n",
      "For example, when doing 'df[col].method(value, inplace=True)', try using 'df.method({col: value}, inplace=True)' or df[col] = df[col].method(value) instead, to perform the operation inplace on the original object.\n",
      "\n",
      "\n",
      "  employee_mart_df['performance_rate'].fillna(0,inplace=True)\n"
     ]
    }
   ],
   "source": [
    "employee_mart_df.dropna(subset=['empID'], inplace=True)\n",
    "employee_mart_df['name'].fillna('Unknown',inplace=True)\n",
    "employee_mart_df['designation'].fillna('Not Known', inplace=True)\n",
    "employee_mart_df['email'].fillna(\"Not Known\", inplace=True)\n",
    "employee_mart_df['password'].fillna(employee_mart_df['empID'],inplace=True)\n",
    "employee_mart_df['mobile'].fillna(0,inplace=True)\n",
    "employee_mart_df['performance_rate'].fillna(0,inplace=True)\n",
    "employee_mart_df.info()"
   ]
  },
  {
   "cell_type": "code",
   "execution_count": 147,
   "metadata": {},
   "outputs": [],
   "source": [
    "# Dropping duplicates\n",
    "employee_mart_df=employee_mart_df.drop_duplicates()\n",
    "\n",
    "# Rounding performance_rate to two decimals\n",
    "employee_mart_df['performance_rate'] = employee_mart_df['performance_rate'].round(2)"
   ]
  },
  {
   "cell_type": "code",
   "execution_count": 148,
   "metadata": {},
   "outputs": [],
   "source": [
    "# Moving data into mart layer\n",
    "employee_mart_df.to_csv('Mart_Layer/employee.csv')"
   ]
  },
  {
   "cell_type": "markdown",
   "metadata": {},
   "source": [
    "----------------------------------------------------------------------------------Report Layer----------------------------------------------------------------------------------"
   ]
  },
  {
   "cell_type": "code",
   "execution_count": 149,
   "metadata": {},
   "outputs": [
    {
     "name": "stdout",
     "output_type": "stream",
     "text": [
      "<class 'pandas.core.frame.DataFrame'>\n",
      "RangeIndex: 2000 entries, 0 to 1999\n",
      "Data columns (total 16 columns):\n",
      " #   Column            Non-Null Count  Dtype  \n",
      "---  ------            --------------  -----  \n",
      " 0   empID             2000 non-null   object \n",
      " 1   courseID          2000 non-null   object \n",
      " 2   completion_rate   2000 non-null   float64\n",
      " 3   id_x              2000 non-null   int64  \n",
      " 4   name_x            2000 non-null   object \n",
      " 5   duration          2000 non-null   object \n",
      " 6   difficulty_level  2000 non-null   object \n",
      " 7   learning_path     2000 non-null   object \n",
      " 8   duration_weeks    2000 non-null   int64  \n",
      " 9   id_y              2000 non-null   int64  \n",
      " 10  name_y            2000 non-null   object \n",
      " 11  designation       2000 non-null   object \n",
      " 12  password          2000 non-null   object \n",
      " 13  email             2000 non-null   object \n",
      " 14  mobile            2000 non-null   int64  \n",
      " 15  performance_rate  2000 non-null   float64\n",
      "dtypes: float64(2), int64(4), object(10)\n",
      "memory usage: 250.1+ KB\n"
     ]
    }
   ],
   "source": [
    "fact_df = employee_course_mart_df.merge(course_mart_df, on='courseID', how='left').merge(employee_mart_df, on='empID', how='left')\n",
    "fact_df.info()"
   ]
  },
  {
   "cell_type": "code",
   "execution_count": 150,
   "metadata": {},
   "outputs": [
    {
     "name": "stdout",
     "output_type": "stream",
     "text": [
      "<class 'pandas.core.frame.DataFrame'>\n",
      "RangeIndex: 2000 entries, 0 to 1999\n",
      "Data columns (total 8 columns):\n",
      " #   Column            Non-Null Count  Dtype  \n",
      "---  ------            --------------  -----  \n",
      " 0   empID             2000 non-null   object \n",
      " 1   designation       2000 non-null   object \n",
      " 2   courseID          2000 non-null   object \n",
      " 3   name_x            2000 non-null   object \n",
      " 4   duration_weeks    2000 non-null   int64  \n",
      " 5   difficulty_level  2000 non-null   object \n",
      " 6   completion_rate   2000 non-null   float64\n",
      " 7   learning_path     2000 non-null   object \n",
      "dtypes: float64(1), int64(1), object(6)\n",
      "memory usage: 125.1+ KB\n"
     ]
    }
   ],
   "source": [
    "fact_df = fact_df[['empID','designation','courseID','name_x','duration_weeks','difficulty_level','completion_rate','learning_path']]\n",
    "fact_df.info()"
   ]
  },
  {
   "cell_type": "code",
   "execution_count": 151,
   "metadata": {},
   "outputs": [
    {
     "name": "stdout",
     "output_type": "stream",
     "text": [
      "<class 'pandas.core.frame.DataFrame'>\n",
      "RangeIndex: 2000 entries, 0 to 1999\n",
      "Data columns (total 8 columns):\n",
      " #   Column            Non-Null Count  Dtype  \n",
      "---  ------            --------------  -----  \n",
      " 0   empID             2000 non-null   object \n",
      " 1   designation       2000 non-null   object \n",
      " 2   courseID          2000 non-null   object \n",
      " 3   course_name       2000 non-null   object \n",
      " 4   duration_weeks    2000 non-null   int64  \n",
      " 5   difficulty_level  2000 non-null   object \n",
      " 6   completion_rate   2000 non-null   float64\n",
      " 7   learning_path     2000 non-null   object \n",
      "dtypes: float64(1), int64(1), object(6)\n",
      "memory usage: 125.1+ KB\n"
     ]
    }
   ],
   "source": [
    "fact_df.rename(columns={'name_x':'course_name'}, inplace=True)\n",
    "fact_df.info()"
   ]
  },
  {
   "cell_type": "code",
   "execution_count": 156,
   "metadata": {},
   "outputs": [
    {
     "name": "stdout",
     "output_type": "stream",
     "text": [
      "<class 'pandas.core.frame.DataFrame'>\n",
      "RangeIndex: 2000 entries, 0 to 1999\n",
      "Data columns (total 8 columns):\n",
      " #   Column            Non-Null Count  Dtype  \n",
      "---  ------            --------------  -----  \n",
      " 0   empID             2000 non-null   object \n",
      " 1   designation       2000 non-null   object \n",
      " 2   courseID          2000 non-null   object \n",
      " 3   course_name       2000 non-null   object \n",
      " 4   duration_weeks    2000 non-null   int64  \n",
      " 5   difficulty_level  2000 non-null   object \n",
      " 6   completion_rate   2000 non-null   float64\n",
      " 7   learning_path     2000 non-null   object \n",
      "dtypes: float64(1), int64(1), object(6)\n",
      "memory usage: 125.1+ KB\n"
     ]
    }
   ],
   "source": [
    "fact_df.to_csv('Report_Layer/fact.csv', index=False)\n",
    "fact_df.info()"
   ]
  },
  {
   "cell_type": "markdown",
   "metadata": {},
   "source": [
    "------------------------------------------------------------------------------------------------------------------------------------------------------------------------------------------------"
   ]
  },
  {
   "cell_type": "code",
   "execution_count": 153,
   "metadata": {},
   "outputs": [
    {
     "data": {
      "text/plain": [
       "array(['Data Science', 'Cloud Computing', 'Machine Learning',\n",
       "       'Web Development', 'Cybersecurity'], dtype=object)"
      ]
     },
     "execution_count": 153,
     "metadata": {},
     "output_type": "execute_result"
    }
   ],
   "source": [
    "course_mart_df['learning_path'].unique()"
   ]
  },
  {
   "cell_type": "code",
   "execution_count": null,
   "metadata": {},
   "outputs": [],
   "source": []
  }
 ],
 "metadata": {
  "kernelspec": {
   "display_name": "Python 3",
   "language": "python",
   "name": "python3"
  },
  "language_info": {
   "codemirror_mode": {
    "name": "ipython",
    "version": 3
   },
   "file_extension": ".py",
   "mimetype": "text/x-python",
   "name": "python",
   "nbconvert_exporter": "python",
   "pygments_lexer": "ipython3",
   "version": "3.12.4"
  }
 },
 "nbformat": 4,
 "nbformat_minor": 2
}
